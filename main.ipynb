{
 "cells": [
  {
   "cell_type": "code",
   "execution_count": 1,
   "metadata": {},
   "outputs": [],
   "source": [
    "import pandas as pd\n",
    "from sklearn.feature_extraction.text import TfidfVectorizer\n",
    "from sklearn.metrics.pairwise import cosine_similarity, euclidean_distances\n",
    "import re\n",
    "from sklearn.cluster import KMeans\n",
    "from sklearn.preprocessing import MinMaxScaler\n",
    "from sklearn.metrics import silhouette_samples, silhouette_score"
   ]
  },
  {
   "cell_type": "code",
   "execution_count": 2,
   "metadata": {},
   "outputs": [],
   "source": [
    "#Read Dataset Steam\n",
    "steam = pd.read_csv('steam.csv')\n",
    "df = pd.DataFrame(data=steam)\n",
    "#Read Dataset Steam_Description\n",
    "desc = pd.read_csv('steam_description_data.csv')\n",
    "df2 = pd.DataFrame(data=desc)\n",
    "#Gabung Dataset Steam & Description\n",
    "df2new=df2.rename(columns={\"steam_appid\":\"appid\"})\n",
    "df= pd.merge(df, df2new, on='appid', how='outer')\n",
    "df = df.dropna()"
   ]
  },
  {
   "cell_type": "code",
   "execution_count": 3,
   "metadata": {},
   "outputs": [],
   "source": [
    "#Seleksi Dataset\n",
    "df = df[df.categories.str.contains(\"Online Multi-Player\")]\n",
    "df = df.loc[(df[['positive_ratings', 'negative_ratings','average_playtime','median_playtime']] != 0).all(axis=1)]\n",
    "df.reset_index(inplace = True, level = 0, col_level=1)\n",
    "img = pd.read_excel('img_data.xlsx')\n",
    "dfimg = pd.DataFrame(data=img)\n",
    "dfimg.columns=['appid','img']\n",
    "df = pd.concat([df,dfimg['img']], axis=1, join=\"outer\")\n",
    "df['name'] = df['name'].str.title()"
   ]
  },
  {
   "cell_type": "code",
   "execution_count": 4,
   "metadata": {},
   "outputs": [],
   "source": [
    "#Memilih Datasset Bertipe String\n",
    "feat = []\n",
    "for i in range(len(df)):\n",
    "  feat.append([])\n",
    "  feat[i].append(df['name'][i])\n",
    "  feat[i].append(df['developer'][i])\n",
    "  feat[i].append(df['categories'][i])\n",
    "  feat[i].append(df['steamspy_tags'][i])\n",
    "  feat[i].append(df['short_description'][i])"
   ]
  },
  {
   "cell_type": "code",
   "execution_count": 5,
   "metadata": {},
   "outputs": [],
   "source": [
    "#Gambung Dataset Bertipe String Menjadi Satu\n",
    "feat = pd.DataFrame(data=feat)\n",
    "feat['combined'] = feat.values.tolist()"
   ]
  },
  {
   "cell_type": "code",
   "execution_count": 6,
   "metadata": {},
   "outputs": [],
   "source": [
    "#Menghapus Simbol Pada Dataset Bertipe String\n",
    "feat_clr = []\n",
    "for i in range(len(feat)):\n",
    "  feat_clr.append([])\n",
    "  feat_clr[i].append(re.sub('[^A-Za-z0-9]+', ' ', str(feat['combined'][i])))\n",
    "\n",
    "feat['cleared']= feat_clr\n",
    "strtolist = []\n",
    "for i in range(len(feat)):\n",
    "  strtolist.append(' '.join([str(elem) for elem in feat['cleared'][i]]))\n",
    "\n",
    "feat['cleared']= strtolist"
   ]
  },
  {
   "cell_type": "code",
   "execution_count": 7,
   "metadata": {},
   "outputs": [],
   "source": [
    "#Vectorizer Memecah Kata\n",
    "from sklearn.feature_extraction.text import CountVectorizer\n",
    "Ve = CountVectorizer()\n",
    "Ve_matrix = Ve.fit_transform(feat['cleared'])"
   ]
  },
  {
   "cell_type": "code",
   "execution_count": 8,
   "metadata": {},
   "outputs": [],
   "source": [
    "#Cosine Similarity\n",
    "cosine_sim = cosine_similarity(Ve_matrix)"
   ]
  },
  {
   "cell_type": "code",
   "execution_count": 9,
   "metadata": {},
   "outputs": [],
   "source": [
    "#MinMaxScaler Untuk Data Bertipe Numerik\n",
    "ft = []\n",
    "ft = pd.DataFrame(data=ft)\n",
    "ft[\"Positive_rating\"] = df.iloc[:,13]\n",
    "ft[\"Negative_rating\"] = df.iloc[:,14]\n",
    "ft[\"Average_playtime\"] = df.iloc[:,15]\n",
    "ft[\"Median_playtime\"] = df.iloc[:,16]\n",
    "pre = MinMaxScaler().fit_transform(ft)"
   ]
  },
  {
   "cell_type": "code",
   "execution_count": 10,
   "metadata": {},
   "outputs": [],
   "source": [
    "#Fungsi Menampilkan Semua Data Berdasarkan Nama\n",
    "def show_all():\n",
    "   return df.sort_values(by=['name'])"
   ]
  },
  {
   "cell_type": "code",
   "execution_count": 11,
   "metadata": {},
   "outputs": [],
   "source": [
    "#Menampilkan Index\n",
    "indices = pd.Series(df.index, index=df['name']).drop_duplicates()"
   ]
  },
  {
   "cell_type": "code",
   "execution_count": 12,
   "metadata": {},
   "outputs": [],
   "source": [
    "#Fungsi Rekomendasi\n",
    "def recommendation(name):\n",
    "  idx = indices[name]\n",
    "\n",
    "  #Cosine Similarity Score\n",
    "  sim_score = list(cosine_sim[idx])\n",
    "\n",
    "  sc=[]\n",
    "  for i in range(len(sim_score)):\n",
    "    sc.append([])\n",
    "    sc[i].append(sim_score[i])\n",
    "  \n",
    "  #Menggabungkan Cosine Similarity Score dengan Hasil MinMaxScaller\n",
    "  Cos = pd.DataFrame(data=sc, columns=['Cosin_Sim'])\n",
    "  feature = pd.DataFrame(data=pre, columns=['Positive_Rating','Negative_Rating','Average_Playtime','Median_Playtime'])\n",
    "  feature['Cosine_Score'] = Cos\n",
    "\n",
    "  #Model Cluster K-Means\n",
    "  K = KMeans(n_clusters=2).fit(feature)\n",
    "  df['hasil'] = K.predict(feature)\n",
    "  \n",
    "  #Mencari Jarak Setiap Data Ke Pusat Cluster\n",
    "  r = euclidean_distances(feature)\n",
    "  jrk = list(r[idx])\n",
    "  \n",
    "  jarak = pd.DataFrame(data=jrk, columns=['Jarak Data'])\n",
    "  feature['jarak ed']= jarak\n",
    "\n",
    "  df['jarak'] = feature.iloc[:,5]\n",
    "  recomendasi = df.sort_values(by=['jarak'])\n",
    "  return recomendasi[:7]"
   ]
  },
  {
   "cell_type": "code",
   "execution_count": 13,
   "metadata": {},
   "outputs": [],
   "source": [
    "def show_info(name):\n",
    "    idx = indices[name]\n",
    "    return df.iloc[idx]"
   ]
  },
  {
   "cell_type": "code",
   "execution_count": 14,
   "metadata": {},
   "outputs": [],
   "source": [
    "def search_game(name):\n",
    "    name = name.lower()\n",
    "    df['name'] = df['name'].str.lower()\n",
    "    dfhasil = df[df.name.str.contains(name)]\n",
    "    dfhasil['name'] = dfhasil['name'].str.title()\n",
    "    df['name'] = df['name'].str.title()\n",
    "    return dfhasil"
   ]
  },
  {
   "cell_type": "code",
   "execution_count": null,
   "metadata": {},
   "outputs": [
    {
     "name": "stdout",
     "output_type": "stream",
     "text": [
      " * Serving Flask app \"__main__\" (lazy loading)\n",
      " * Environment: production\n",
      "   WARNING: This is a development server. Do not use it in a production deployment.\n",
      "   Use a production WSGI server instead.\n",
      " * Debug mode: off\n"
     ]
    },
    {
     "name": "stderr",
     "output_type": "stream",
     "text": [
      " * Running on http://127.0.0.1:5000/ (Press CTRL+C to quit)\n",
      "127.0.0.1 - - [10/Jul/2020 18:20:46] \"\u001b[37mGET / HTTP/1.1\u001b[0m\" 200 -\n"
     ]
    }
   ],
   "source": [
    "from flask import Flask, render_template, Blueprint, request, redirect, url_for\n",
    "from flask_paginate import Pagination, get_page_parameter, get_page_args\n",
    "\n",
    "app = Flask(__name__)\n",
    "sgame = df.sort_values(by=['name'])\n",
    "\n",
    "\n",
    "def get_game(offset=0, per_page=10):\n",
    "    return sgame[offset: offset + per_page]\n",
    "\n",
    "@app.route('/', methods=['GET', 'POST'])\n",
    "def home():\n",
    "    page, per_page, offset = get_page_args(page_parameter='page',\n",
    "                                           per_page_parameter='per_page')\n",
    "    total = len(sgame)\n",
    "    pagination_game = get_game(offset=offset, per_page=per_page)\n",
    "    pagination = Pagination(page=page, per_page=per_page, total=total,\n",
    "                            css_framework='bootstrap4')\n",
    "    pp = len(pagination_game)\n",
    "    \n",
    "    if request.method == 'POST':\n",
    "        search = request.form.get('search')\n",
    "        return redirect(url_for('searching', search=search))\n",
    "    \n",
    "    return render_template(\"index.html\", uwow = pagination_game, page=page,\n",
    "                           per_page=per_page, pagination=pagination, pp=pp)\n",
    "\n",
    "@app.route('/game/')\n",
    "def halaman_game():\n",
    "    vargame = request.args.get('vargame')\n",
    "    search = request.args.get('search')\n",
    "    info = show_info(vargame)\n",
    "    desc = info['short_description'].lstrip()\n",
    "    cat = info['categories'].replace(\";\", \", \")\n",
    "    stp = info['steamspy_tags'].replace(\";\", \", \")\n",
    "    \n",
    "    \n",
    "    reko = recommendation(vargame)\n",
    "    return render_template(\"game.html\", vargame=vargame, info=info, desc=desc, cat=cat,\n",
    "                          stp=stp, reko=reko, search=search)\n",
    "\n",
    "@app.route('/search/')\n",
    "def searching():\n",
    "    search = request.args.get('search')\n",
    "    cari = search_game(search)\n",
    "    totcari = len(cari)\n",
    "    return render_template(\"search.html\", search=search, cari=cari, totcari=totcari)\n",
    "\n",
    "if __name__ == '__main__':\n",
    "    app.run()"
   ]
  },
  {
   "cell_type": "code",
   "execution_count": null,
   "metadata": {},
   "outputs": [],
   "source": []
  }
 ],
 "metadata": {
  "kernelspec": {
   "display_name": "Python 3",
   "language": "python",
   "name": "python3"
  },
  "language_info": {
   "codemirror_mode": {
    "name": "ipython",
    "version": 3
   },
   "file_extension": ".py",
   "mimetype": "text/x-python",
   "name": "python",
   "nbconvert_exporter": "python",
   "pygments_lexer": "ipython3",
   "version": "3.7.6"
  }
 },
 "nbformat": 4,
 "nbformat_minor": 4
}
